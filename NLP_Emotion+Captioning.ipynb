{
 "cells": [
  {
   "cell_type": "code",
   "execution_count": 2,
   "id": "eb2019c3",
   "metadata": {},
   "outputs": [
    {
     "name": "stderr",
     "output_type": "stream",
     "text": [
      "C:\\Users\\guhan\\anaconda3\\New folder\\Lib\\site-packages\\transformers\\generation\\utils.py:1411: UserWarning: You have modified the pretrained model configuration to control generation. This is a deprecated strategy to control generation and will be removed soon, in a future version. Please use a generation configuration file (see https://huggingface.co/docs/transformers/main_classes/text_generation )\n",
      "  warnings.warn(\n"
     ]
    },
    {
     "name": "stdout",
     "output_type": "stream",
     "text": [
      "Base Caption: A baby is playing.\n",
      "Emotion Label: happy\n",
      "Refined Caption: Rewrite the following caption to reflect a joyful and bright expression, capturing a face beaming with happiness and a positive aura: A baby is playing. That's right – a baby that's looking up at me smiling so heartily is a great moment! We all know what you're up to now; what time we're going to be here or have a good meal, why we've missed you\n"
     ]
    }
   ],
   "source": [
    "import torch\n",
    "from transformers import GPT2LMHeadModel, GPT2Tokenizer\n",
    "\n",
    "# Load pre-trained GPT-2 model and tokenizer\n",
    "tokenizer = GPT2Tokenizer.from_pretrained(\"gpt2\")\n",
    "model = GPT2LMHeadModel.from_pretrained(\"gpt2\")\n",
    "\n",
    "# Define the pad token for GPT-2\n",
    "tokenizer.pad_token = tokenizer.eos_token\n",
    "model.config.pad_token_id = model.config.eos_token_id\n",
    "\n",
    "# Function to refine caption based on detected emotion\n",
    "def refine_caption_with_emotion(base_caption, emotion_label):\n",
    "    # More expressive emotion-based prompts\n",
    "    emotion_prompts = {\n",
    "        \"happy\": \"Rewrite the following caption to reflect a joyful and bright expression, capturing a face beaming with happiness and a positive aura: \",\n",
    "        \"sad\": \"Rewrite the following caption to convey a somber and pensive expression, with downcast eyes and a face that reflects a sense of sadness and longing: \"\n",
    "    }\n",
    "    \n",
    "    # Select prompt based on emotion\n",
    "    prompt = f\"{emotion_prompts.get(emotion_label, '')}{base_caption}\"\n",
    "    \n",
    "    # Encode prompt for GPT-2\n",
    "    inputs = tokenizer.encode(prompt, return_tensors=\"pt\")\n",
    "    \n",
    "    # Generate refined caption with adjusted settings for more variety\n",
    "    output = model.generate(\n",
    "        inputs,\n",
    "        max_length=len(inputs[0])+50,\n",
    "        do_sample=True,           # Enable sampling for variety\n",
    "        top_k=50,                 # Limits to top 50 choices, encouraging creativity\n",
    "        top_p=0.9,                # Nucleus sampling to include top probabilities up to 90%\n",
    "        temperature=1.2,          # Slightly higher temperature for more diversity\n",
    "        no_repeat_ngram_size=2,   # Avoid repetitive phrases\n",
    "        pad_token_id=tokenizer.pad_token_id\n",
    "    )\n",
    "    \n",
    "    # Decode the output back to text\n",
    "    refined_caption = tokenizer.decode(output[0], skip_special_tokens=True)\n",
    "    return refined_caption\n",
    "\n",
    "# Example usage\n",
    "base_caption = \"A baby is playing.\"\n",
    "emotion_label = \"happy\"\n",
    "\n",
    "# Generate refined caption\n",
    "refined_caption = refine_caption_with_emotion(base_caption, emotion_label)\n",
    "print(\"Base Caption:\", base_caption)\n",
    "print(\"Emotion Label:\", emotion_label)\n",
    "print(\"Refined Caption:\", refined_caption)\n"
   ]
  },
  {
   "cell_type": "code",
   "execution_count": null,
   "id": "cd957026",
   "metadata": {},
   "outputs": [],
   "source": []
  }
 ],
 "metadata": {
  "kernelspec": {
   "display_name": "Python 3 (ipykernel)",
   "language": "python",
   "name": "python3"
  },
  "language_info": {
   "codemirror_mode": {
    "name": "ipython",
    "version": 3
   },
   "file_extension": ".py",
   "mimetype": "text/x-python",
   "name": "python",
   "nbconvert_exporter": "python",
   "pygments_lexer": "ipython3",
   "version": "3.11.5"
  }
 },
 "nbformat": 4,
 "nbformat_minor": 5
}
